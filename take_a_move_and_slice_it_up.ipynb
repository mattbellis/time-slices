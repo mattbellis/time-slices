{
 "cells": [
  {
   "cell_type": "code",
   "execution_count": null,
   "metadata": {},
   "outputs": [],
   "source": [
    "import time_slice_tools as tst\n",
    "\n",
    "import numpy as np\n",
    "import matplotlib.pylab as plt\n",
    "\n",
    "import cv2\n",
    "\n",
    "import signal\n",
    "\n",
    "%matplotlib notebook"
   ]
  },
  {
   "cell_type": "markdown",
   "metadata": {},
   "source": [
    "# Get the frame rate for later calculations"
   ]
  },
  {
   "cell_type": "code",
   "execution_count": null,
   "metadata": {},
   "outputs": [],
   "source": [
    "tst.get_frame_rate()"
   ]
  },
  {
   "cell_type": "markdown",
   "metadata": {},
   "source": [
    "# Take the video\n",
    "\n",
    "***Make sure you change the tag so that any saved images are referenced properly***"
   ]
  },
  {
   "cell_type": "code",
   "execution_count": null,
   "metadata": {
    "scrolled": true
   },
   "outputs": [],
   "source": [
    "#tag = 'dumbo_toss_spinning'\n",
    "#tag = 'ping_pong_ball'\n",
    "tag = 'default'\n",
    "\n",
    "frames = tst.take_movie()\n",
    "\n",
    "frame = frames[85]\n",
    "plt.figure()\n",
    "webcam_preview = plt.imshow(frame)   \n",
    "webcam_preview.set_data(frame)\n",
    "plt.draw()"
   ]
  },
  {
   "cell_type": "markdown",
   "metadata": {},
   "source": [
    "# Show a bunch of the images separately"
   ]
  },
  {
   "cell_type": "code",
   "execution_count": null,
   "metadata": {},
   "outputs": [],
   "source": [
    "nframes = len(frames)\n",
    "nslices = 16\n",
    "fstep = int(nframes/nslices)\n",
    "\n",
    "plt.figure(figsize=(8,8))\n",
    "for i in range(0,nslices):\n",
    "    plt.subplot(4,4,i+1)\n",
    "    frame = frames[i*fstep]\n",
    "\n",
    "    webcam_preview = plt.imshow(frame)   \n",
    "    webcam_preview.set_data(frame)\n",
    "\n",
    "#plt.draw()\n",
    "\n",
    "print(len(frames))\n",
    "name = 'lots_of_images_%s.png' % (tag)\n",
    "plt.savefig(name,bbox_inches='tight')"
   ]
  },
  {
   "cell_type": "markdown",
   "metadata": {},
   "source": [
    "# Stack the images\n",
    "\n",
    "Note that you may have to vary the threshold to get it to look good. "
   ]
  },
  {
   "cell_type": "code",
   "execution_count": null,
   "metadata": {
    "scrolled": false
   },
   "outputs": [],
   "source": [
    "newimg = tst.overlay_images(frames,threshold=1700,nframes_to_skip=1)"
   ]
  },
  {
   "cell_type": "code",
   "execution_count": null,
   "metadata": {},
   "outputs": [],
   "source": [
    "plt.figure(figsize=(8,8))\n",
    "plt.imshow(newimg)\n",
    "name = 'stacked_image_%s.png' % (tag)\n",
    "plt.savefig(name,bbox_inches='tight')\n"
   ]
  },
  {
   "cell_type": "code",
   "execution_count": null,
   "metadata": {},
   "outputs": [],
   "source": [
    "plt.figure(figsize=(8,8))\n",
    "plt.imshow(newimg)\n",
    "name = 'stacked_image_%s.png' % ('ping_pong_ball_every_1frame')\n",
    "plt.savefig(name,bbox_inches='tight')"
   ]
  },
  {
   "cell_type": "code",
   "execution_count": null,
   "metadata": {
    "collapsed": true
   },
   "outputs": [],
   "source": []
  }
 ],
 "metadata": {
  "kernelspec": {
   "display_name": "Python 3",
   "language": "python",
   "name": "python3"
  },
  "language_info": {
   "codemirror_mode": {
    "name": "ipython",
    "version": 3
   },
   "file_extension": ".py",
   "mimetype": "text/x-python",
   "name": "python",
   "nbconvert_exporter": "python",
   "pygments_lexer": "ipython3",
   "version": "3.6.3"
  }
 },
 "nbformat": 4,
 "nbformat_minor": 2
}
